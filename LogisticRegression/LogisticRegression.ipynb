{
  "nbformat": 4,
  "nbformat_minor": 0,
  "metadata": {
    "colab": {
      "name": "LogisticRegression.ipynb",
      "provenance": [],
      "collapsed_sections": []
    },
    "kernelspec": {
      "name": "python3",
      "display_name": "Python 3"
    },
    "language_info": {
      "name": "python"
    }
  },
  "cells": [
    {
      "cell_type": "code",
      "metadata": {
        "id": "19LYAr64HuOw"
      },
      "source": [
        "#@ IMPORTING THE LIBRARIES:\n",
        "import pandas as pd\n",
        "import numpy as np\n",
        "from sklearn.model_selection import train_test_split\n",
        "from sklearn.linear_model import LogisticRegression"
      ],
      "execution_count": 2,
      "outputs": []
    },
    {
      "cell_type": "code",
      "metadata": {
        "id": "XqRfocAmIHrV"
      },
      "source": [
        "#@ IMPLEMENTATION OF LOGISTIC REGRESSION:\n",
        "class LogisticRegression():                                     # Implementation of Logistic Regression. \n",
        "  def __init__(self, learning_rate, iterations):                # Constructor Function. \n",
        "    self.learning_rate = learning_rate                          # Initializing the Learning rate. \n",
        "    self.iterations = iterations                                # Initializing the Iterations. \n",
        "\n",
        "  def fit(self, features, labels):                              # Function for Training. \n",
        "    self.features = features                                    # Initializing Features. \n",
        "    self.labels = labels                                        # Initializing Labels.\n",
        "    self.num_train = features.shape[0]                          # Number of Training examples. \n",
        "    self.num_features = features.shape[1]                       # Number of Features. \n",
        "    self.W, self.b = np.zeros(self.num_features), 0             # Initializing Weights. \n",
        "\n",
        "    for i in range(self.iterations):\n",
        "      self.update_weights()\n",
        "    return self\n",
        "  \n",
        "  def update_weights(self):                                    # Function for updating weights. \n",
        "    A = 1 / (1 + np.exp(-(self.features.dot(self.W) + self.b)))\n",
        "    pred = (A - self.labels.T)\n",
        "    pred = np.reshape(pred, self.num_train)\n",
        "    dW = np.dot(self.features.T, pred) / self.num_train\n",
        "    db = np.sum(pred) / self.num_train                         # Average of the Predictions. \n",
        "    self.W = self.W - self.learning_rate * dW                  # Updating Weights. \n",
        "    self.b = self.b - self.learning_rate * db                  # Updating Weights. \n",
        "    return self\n",
        "  \n",
        "  def predict(self, X):                                        # Function for Predictions. \n",
        "    Z = 1 / (1 + np.exp(-(X.dot(self.W) + self.b)))\n",
        "    Y = np.where(Z > 0.5, 1, 0)\n",
        "    return Y"
      ],
      "execution_count": 3,
      "outputs": []
    },
    {
      "cell_type": "code",
      "metadata": {
        "colab": {
          "base_uri": "https://localhost:8080/"
        },
        "id": "aEZlOSt4thQU",
        "outputId": "40a0db7f-067c-45c3-f753-252216bdcb79"
      },
      "source": [
        "#@ IMPLEMENTATION: \n",
        "def main():\n",
        "  data = pd.read_csv(PATH)                                                  # Reading the Dataset. \n",
        "  X = data.iloc[:, :-1].values\n",
        "  Y = data.iloc[:, -1:].values\n",
        "  X_train, X_test, y_train, y_test = train_test_split(X, Y, test_size=0.3, \n",
        "                                                      random_state=11)\n",
        "  model = LogisticRegression(learning_rate=0.01, iterations=1000)           # Initializing Logistic Regression. \n",
        "  model.fit(X_train, y_train)                                               # Training the Model. \n",
        "  Y_pred = model.predict(X_test)\n",
        "  correctly_classified = 0\n",
        "  count = 0\n",
        "  for count in range(np.size(Y_pred)):\n",
        "    if y_test[count] == Y_pred[count]:\n",
        "      correctly_classified += 1\n",
        "    count += 1\n",
        "  print(\"Accuracy:\", (correctly_classified / count) * 100)\n",
        "\n",
        "if __name__ == \"__main__\":\n",
        "  main()"
      ],
      "execution_count": 6,
      "outputs": [
        {
          "output_type": "stream",
          "text": [
            "Accuracy: 42.42424242424242\n"
          ],
          "name": "stdout"
        }
      ]
    }
  ]
}