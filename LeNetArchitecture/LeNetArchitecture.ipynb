{
  "nbformat": 4,
  "nbformat_minor": 0,
  "metadata": {
    "colab": {
      "name": "LeNetArchitecture.ipynb",
      "provenance": []
    },
    "kernelspec": {
      "name": "python3",
      "display_name": "Python 3"
    },
    "language_info": {
      "name": "python"
    },
    "accelerator": "GPU"
  },
  "cells": [
    {
      "cell_type": "code",
      "metadata": {
        "id": "qNXFM06HOnBy"
      },
      "source": [
        "#@ IMPORTING THE LIBRARIES AND DEPENDENCIES: \n",
        "# !pip install -U d2l\n",
        "%matplotlib inline \n",
        "import torch\n",
        "from torch import nn\n",
        "from torch.nn import functional as F\n",
        "from d2l import torch as d2l"
      ],
      "execution_count": 5,
      "outputs": []
    },
    {
      "cell_type": "code",
      "metadata": {
        "id": "q2nnTsgboSzk"
      },
      "source": [
        "#@ INITIALIZING MODEL PARAMETERS: \n",
        "scale = 0.01                                                      # Initialization. \n",
        "W1 = torch.randn(size=(20, 1, 3, 3)) * scale                      # Initializing the Parameter. \n",
        "b1 = torch.zeros(20)                                              # Initializing the Tensor of zeros. \n",
        "W2 = torch.randn(size=(50, 20, 5, 5)) * scale                     # Initializing the Parameter. \n",
        "b2 = torch.zeros(50)                                              # Initializing the Tensor of zeros. \n",
        "W3 = torch.randn(size=(800, 128)) * scale                         # Initializing the Parameter. \n",
        "b3 = torch.zeros(128)                                             # Initializing the Tensor of zeros. \n",
        "W4 = torch.randn(size=(128, 10)) * scale                          # Initializing the Parameter. \n",
        "b4 = torch.zeros(10)                                              # Initializing the Tensor of zeros. \n",
        "params = [W1, b1, W2, b2, W3, b3, W4, b4]                         # Initializing a list of Parameters. "
      ],
      "execution_count": 3,
      "outputs": []
    },
    {
      "cell_type": "code",
      "metadata": {
        "id": "V5Z391gWrDnO"
      },
      "source": [
        "#@ DEFINING THE LENET MODEL: \n",
        "def lenet(X, params):                                                         # Initializing the LENET Model. \n",
        "  h1_conv = F.conv2d(input=X, weight=params[0], bias=params[1])               # Initializing the Convolutional Layer. \n",
        "  h1_activation = F.relu(h1_conv)                                             # Initializing the RELU Activation Function. \n",
        "  h1 = F.avg_pool2d(input=h1_activation, kernel_size=(2, 2), stride=(2, 2))   # Initializing the Average Pooling Layer. \n",
        "  h2_conv = F.conv2d(input=h1, weight=params[2], bias=params[3])              # Initializing the Convolutional Layer. \n",
        "  h2_activation = F.relu(h2_conv)                                             # Initializing the RELU Activation Function. \n",
        "  h2 = F.avg_pool2d(input=h2_activation, kernel_size=(2, 2), stride=(2, 2))   # Initializing the Average Pooling Layer. \n",
        "  h2 = h2.reshape(h2.shape[0], -1)                                            # Changing the shape. \n",
        "  h3_linear = torch.mm(h2, params[4] + params[5])                             # Initializing the Matrix Multiplication. \n",
        "  h3 = F.relu(h3_linear)                                                      # Initializing the RELU Activation Function. \n",
        "  y_hat = torch.mm(h3, params[6] + params[7])                                 # Initializing the Matrix Multiplication. \n",
        "  return y_hat\n",
        "#@ INITIALIZING CROSSENTROPY LOSS FUNCTION: \n",
        "loss = nn.CrossEntropyLoss(reduction=\"none\")                                  # Initializing the Cross Entropy Loss Function. "
      ],
      "execution_count": 6,
      "outputs": []
    },
    {
      "cell_type": "code",
      "metadata": {
        "id": "AYZHVTu1t-rH"
      },
      "source": [
        "#@ IMPLEMENTATION OF DATA SYNCHRONIZATION: \n",
        "def get_params(params, device):                                              \n",
        "  new_params = [p.clone().to(device) for p in params]\n",
        "  for p in new_params: \n",
        "    p.requires_grad_()\n",
        "  return new_params"
      ],
      "execution_count": 7,
      "outputs": []
    }
  ]
}